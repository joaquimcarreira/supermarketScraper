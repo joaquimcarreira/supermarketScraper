{
 "cells": [
  {
   "cell_type": "code",
   "execution_count": 1,
   "metadata": {},
   "outputs": [
    {
     "ename": "ModuleNotFoundError",
     "evalue": "No module named 'pandas'",
     "output_type": "error",
     "traceback": [
      "\u001b[0;31m---------------------------------------------------------------------------\u001b[0m",
      "\u001b[0;31mModuleNotFoundError\u001b[0m                       Traceback (most recent call last)",
      "Cell \u001b[0;32mIn[1], line 1\u001b[0m\n\u001b[0;32m----> 1\u001b[0m \u001b[38;5;28;01mimport\u001b[39;00m \u001b[38;5;21;01mpandas\u001b[39;00m \u001b[38;5;28;01mas\u001b[39;00m \u001b[38;5;21;01mpd\u001b[39;00m\n",
      "\u001b[0;31mModuleNotFoundError\u001b[0m: No module named 'pandas'"
     ]
    }
   ],
   "source": [
    "import pandas as pd"
   ]
  },
  {
   "cell_type": "code",
   "execution_count": 5,
   "metadata": {},
   "outputs": [],
   "source": [
    "data = pd.read_json(r\"/home/joaquim/projectos/marketScraper/marketScraper/marketScraper/data/precios.json\")"
   ]
  },
  {
   "cell_type": "code",
   "execution_count": 6,
   "metadata": {},
   "outputs": [
    {
     "data": {
      "text/html": [
       "<div>\n",
       "<style scoped>\n",
       "    .dataframe tbody tr th:only-of-type {\n",
       "        vertical-align: middle;\n",
       "    }\n",
       "\n",
       "    .dataframe tbody tr th {\n",
       "        vertical-align: top;\n",
       "    }\n",
       "\n",
       "    .dataframe thead th {\n",
       "        text-align: right;\n",
       "    }\n",
       "</style>\n",
       "<table border=\"1\" class=\"dataframe\">\n",
       "  <thead>\n",
       "    <tr style=\"text-align: right;\">\n",
       "      <th></th>\n",
       "      <th>date</th>\n",
       "      <th>categoria</th>\n",
       "      <th>nombres</th>\n",
       "      <th>precios</th>\n",
       "    </tr>\n",
       "  </thead>\n",
       "  <tbody>\n",
       "    <tr>\n",
       "      <th>0</th>\n",
       "      <td>2022-07-06</td>\n",
       "      <td>Alimento De Bebés Y Niños</td>\n",
       "      <td>Cacao En Polvo Nestlé Nescao 300 Gr</td>\n",
       "      <td>$141,19</td>\n",
       "    </tr>\n",
       "    <tr>\n",
       "      <th>1</th>\n",
       "      <td>2022-07-06</td>\n",
       "      <td>Alimento De Bebés Y Niños</td>\n",
       "      <td>Cacao ARCOA Bolsa 360 Gr</td>\n",
       "      <td>$201,55</td>\n",
       "    </tr>\n",
       "    <tr>\n",
       "      <th>2</th>\n",
       "      <td>2022-07-06</td>\n",
       "      <td>Alimento De Bebés Y Niños</td>\n",
       "      <td>Cacao En Polvo Arcoa Paq 360 Grm</td>\n",
       "      <td>$269,50</td>\n",
       "    </tr>\n",
       "    <tr>\n",
       "      <th>3</th>\n",
       "      <td>2022-07-06</td>\n",
       "      <td>Alimento De Bebés Y Niños</td>\n",
       "      <td>Cacao Granulado Chocolino Paq 800 Grm</td>\n",
       "      <td>$632,35</td>\n",
       "    </tr>\n",
       "    <tr>\n",
       "      <th>4</th>\n",
       "      <td>2022-07-06</td>\n",
       "      <td>Alimento De Bebés Y Niños</td>\n",
       "      <td>Cacao Granulado Chocolino Paq 360 Grm</td>\n",
       "      <td>$307,95</td>\n",
       "    </tr>\n",
       "  </tbody>\n",
       "</table>\n",
       "</div>"
      ],
      "text/plain": [
       "        date                   categoria  \\\n",
       "0 2022-07-06  Alimento De Bebés Y Niños    \n",
       "1 2022-07-06  Alimento De Bebés Y Niños    \n",
       "2 2022-07-06  Alimento De Bebés Y Niños    \n",
       "3 2022-07-06  Alimento De Bebés Y Niños    \n",
       "4 2022-07-06  Alimento De Bebés Y Niños    \n",
       "\n",
       "                                 nombres  precios  \n",
       "0    Cacao En Polvo Nestlé Nescao 300 Gr  $141,19  \n",
       "1               Cacao ARCOA Bolsa 360 Gr  $201,55  \n",
       "2       Cacao En Polvo Arcoa Paq 360 Grm  $269,50  \n",
       "3  Cacao Granulado Chocolino Paq 800 Grm  $632,35  \n",
       "4  Cacao Granulado Chocolino Paq 360 Grm  $307,95  "
      ]
     },
     "execution_count": 6,
     "metadata": {},
     "output_type": "execute_result"
    }
   ],
   "source": [
    "data.head()"
   ]
  },
  {
   "cell_type": "code",
   "execution_count": 7,
   "metadata": {},
   "outputs": [
    {
     "name": "stdout",
     "output_type": "stream",
     "text": [
      "<class 'pandas.core.frame.DataFrame'>\n",
      "RangeIndex: 57443 entries, 0 to 57442\n",
      "Data columns (total 4 columns):\n",
      " #   Column     Non-Null Count  Dtype         \n",
      "---  ------     --------------  -----         \n",
      " 0   date       57443 non-null  datetime64[ns]\n",
      " 1   categoria  57443 non-null  object        \n",
      " 2   nombres    57443 non-null  object        \n",
      " 3   precios    57443 non-null  object        \n",
      "dtypes: datetime64[ns](1), object(3)\n",
      "memory usage: 1.8+ MB\n"
     ]
    }
   ],
   "source": [
    "data.info()"
   ]
  },
  {
   "cell_type": "code",
   "execution_count": 13,
   "metadata": {},
   "outputs": [
    {
     "data": {
      "text/html": [
       "<div>\n",
       "<style scoped>\n",
       "    .dataframe tbody tr th:only-of-type {\n",
       "        vertical-align: middle;\n",
       "    }\n",
       "\n",
       "    .dataframe tbody tr th {\n",
       "        vertical-align: top;\n",
       "    }\n",
       "\n",
       "    .dataframe thead th {\n",
       "        text-align: right;\n",
       "    }\n",
       "</style>\n",
       "<table border=\"1\" class=\"dataframe\">\n",
       "  <thead>\n",
       "    <tr style=\"text-align: right;\">\n",
       "      <th></th>\n",
       "      <th>date</th>\n",
       "      <th>categoria</th>\n",
       "      <th>nombres</th>\n",
       "      <th>precios</th>\n",
       "    </tr>\n",
       "  </thead>\n",
       "  <tbody>\n",
       "    <tr>\n",
       "      <th>1563</th>\n",
       "      <td>2022-07-06</td>\n",
       "      <td>Golosinas</td>\n",
       "      <td>Turron Mani Sabor Chocolatada Arcor Paq 10 Uni</td>\n",
       "      <td>$514,99</td>\n",
       "    </tr>\n",
       "    <tr>\n",
       "      <th>4700</th>\n",
       "      <td>2022-07-10</td>\n",
       "      <td>Golosinas</td>\n",
       "      <td>Turron Mani Sabor Chocolatada Arcor Paq 10 Uni</td>\n",
       "      <td>$514,99</td>\n",
       "    </tr>\n",
       "    <tr>\n",
       "      <th>30297</th>\n",
       "      <td>2022-07-11</td>\n",
       "      <td>Golosinas</td>\n",
       "      <td>Turron Mani Sabor Chocolatada Arcor Paq 10 Uni</td>\n",
       "      <td>$514,99</td>\n",
       "    </tr>\n",
       "    <tr>\n",
       "      <th>35737</th>\n",
       "      <td>2022-07-14</td>\n",
       "      <td>Golosinas</td>\n",
       "      <td>Turron Mani Sabor Chocolatada Arcor Paq 10 Uni</td>\n",
       "      <td>$514,99</td>\n",
       "    </tr>\n",
       "    <tr>\n",
       "      <th>56457</th>\n",
       "      <td>2023-10-15</td>\n",
       "      <td>Golosinas</td>\n",
       "      <td>Turron Mani Sabor Chocolatada Arcor Paq 10 Uni</td>\n",
       "      <td>$1.163,82</td>\n",
       "    </tr>\n",
       "    <tr>\n",
       "      <th>56950</th>\n",
       "      <td>2023-10-15</td>\n",
       "      <td>Golosinas</td>\n",
       "      <td>Turron Mani Sabor Chocolatada Arcor Paq 10 Uni</td>\n",
       "      <td>$1.163,82</td>\n",
       "    </tr>\n",
       "  </tbody>\n",
       "</table>\n",
       "</div>"
      ],
      "text/plain": [
       "            date   categoria                                         nombres  \\\n",
       "1563  2022-07-06  Golosinas   Turron Mani Sabor Chocolatada Arcor Paq 10 Uni   \n",
       "4700  2022-07-10  Golosinas   Turron Mani Sabor Chocolatada Arcor Paq 10 Uni   \n",
       "30297 2022-07-11  Golosinas   Turron Mani Sabor Chocolatada Arcor Paq 10 Uni   \n",
       "35737 2022-07-14  Golosinas   Turron Mani Sabor Chocolatada Arcor Paq 10 Uni   \n",
       "56457 2023-10-15  Golosinas   Turron Mani Sabor Chocolatada Arcor Paq 10 Uni   \n",
       "56950 2023-10-15  Golosinas   Turron Mani Sabor Chocolatada Arcor Paq 10 Uni   \n",
       "\n",
       "         precios  \n",
       "1563     $514,99  \n",
       "4700     $514,99  \n",
       "30297    $514,99  \n",
       "35737    $514,99  \n",
       "56457  $1.163,82  \n",
       "56950  $1.163,82  "
      ]
     },
     "execution_count": 13,
     "metadata": {},
     "output_type": "execute_result"
    }
   ],
   "source": [
    "data[data[\"nombres\"]==\"Turron Mani Sabor Chocolatada Arcor Paq 10 Uni\"]"
   ]
  },
  {
   "cell_type": "code",
   "execution_count": null,
   "metadata": {},
   "outputs": [],
   "source": []
  }
 ],
 "metadata": {
  "kernelspec": {
   "display_name": "Python 3 (ipykernel)",
   "language": "python",
   "name": "python3"
  },
  "language_info": {
   "codemirror_mode": {
    "name": "ipython",
    "version": 3
   },
   "file_extension": ".py",
   "mimetype": "text/x-python",
   "name": "python",
   "nbconvert_exporter": "python",
   "pygments_lexer": "ipython3",
   "version": "3.10.13"
  }
 },
 "nbformat": 4,
 "nbformat_minor": 2
}
